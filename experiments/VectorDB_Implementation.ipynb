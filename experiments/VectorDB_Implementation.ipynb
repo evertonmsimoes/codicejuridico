{
 "cells": [
  {
   "cell_type": "code",
   "execution_count": 13,
   "id": "c1feb0f0-edab-4886-acb0-df0188ddbd90",
   "metadata": {},
   "outputs": [],
   "source": [
    "import weaviate\n",
    "from weaviate.connect import ConnectionParams"
   ]
  },
  {
   "cell_type": "code",
   "execution_count": 23,
   "id": "d23fb0da-84a6-4e4a-8594-39fdf64aeec3",
   "metadata": {},
   "outputs": [],
   "source": [
    "class WeaviateDBConection:\n",
    "    def __init__(self, host: str = \"127.0.0.1\", port: int = 808,):\n",
    "        self.client = weaviate.WeaviateClient(\n",
    "            connection_params=ConnectionParams.from_params(\n",
    "                http_host=host,\n",
    "                http_port=port,\n",
    "                http_secure=False,\n",
    "                grpc_host=\"localhost\",\n",
    "                grpc_port=50052,\n",
    "                grpc_secure=False\n",
    "        )\n",
    "    )\n",
    "\n",
    "    def  get_vectorDb(self):\n",
    "        return self.client\n",
    "    "
   ]
  },
  {
   "cell_type": "code",
   "execution_count": 24,
   "id": "157cd81a-fa3c-4172-9ad0-d19b01692ce6",
   "metadata": {},
   "outputs": [],
   "source": [
    "test = WeaviateDBConection()\n",
    "database = test.get_vectorDb()"
   ]
  },
  {
   "cell_type": "code",
   "execution_count": 28,
   "id": "a63f2a04-f745-427f-98a8-f20d90ca478f",
   "metadata": {},
   "outputs": [
    {
     "ename": "TypeError",
     "evalue": "_Collections.get() missing 1 required positional argument: 'name'",
     "output_type": "error",
     "traceback": [
      "\u001b[1;31m---------------------------------------------------------------------------\u001b[0m",
      "\u001b[1;31mTypeError\u001b[0m                                 Traceback (most recent call last)",
      "Cell \u001b[1;32mIn[28], line 1\u001b[0m\n\u001b[1;32m----> 1\u001b[0m \u001b[43mdatabase\u001b[49m\u001b[38;5;241;43m.\u001b[39;49m\u001b[43mcollections\u001b[49m\u001b[38;5;241;43m.\u001b[39;49m\u001b[43mget\u001b[49m\u001b[43m(\u001b[49m\u001b[43m)\u001b[49m\n",
      "\u001b[1;31mTypeError\u001b[0m: _Collections.get() missing 1 required positional argument: 'name'"
     ]
    }
   ],
   "source": [
    "database.collections.get()"
   ]
  },
  {
   "cell_type": "code",
   "execution_count": null,
   "id": "400f5555-34f6-43de-aea3-ad9eb07ebbc8",
   "metadata": {},
   "outputs": [],
   "source": []
  }
 ],
 "metadata": {
  "kernelspec": {
   "display_name": "Python 3 (ipykernel)",
   "language": "python",
   "name": "python3"
  },
  "language_info": {
   "codemirror_mode": {
    "name": "ipython",
    "version": 3
   },
   "file_extension": ".py",
   "mimetype": "text/x-python",
   "name": "python",
   "nbconvert_exporter": "python",
   "pygments_lexer": "ipython3",
   "version": "3.12.8"
  }
 },
 "nbformat": 4,
 "nbformat_minor": 5
}
