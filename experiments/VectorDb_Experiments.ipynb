{
 "cells": [
  {
   "cell_type": "markdown",
   "id": "dd50eafa-e177-4f79-9c29-a060c29718b4",
   "metadata": {},
   "source": [
    "# Cector Database (Bancos de Dados vetoriais)"
   ]
  },
  {
   "cell_type": "code",
   "execution_count": null,
   "id": "1cdd0313-6783-4926-ba67-db0f5bb6b82d",
   "metadata": {},
   "outputs": [],
   "source": []
  }
 ],
 "metadata": {
  "kernelspec": {
   "display_name": "Python 3 (ipykernel)",
   "language": "python",
   "name": "python3"
  },
  "language_info": {
   "codemirror_mode": {
    "name": "ipython",
    "version": 3
   },
   "file_extension": ".py",
   "mimetype": "text/x-python",
   "name": "python",
   "nbconvert_exporter": "python",
   "pygments_lexer": "ipython3",
   "version": "3.12.8"
  }
 },
 "nbformat": 4,
 "nbformat_minor": 5
}
